{
 "cells": [
  {
   "cell_type": "markdown",
   "metadata": {
    "colab_type": "text",
    "deletable": true,
    "editable": true,
    "id": "kR-4eNdK6lYS"
   },
   "source": [
    "Deep Learning\n",
    "=============\n",
    "\n",
    "Assignment 3\n",
    "------------\n",
    "\n",
    "Previously in `2_fullyconnected.ipynb`, you trained a logistic regression and a neural network model.\n",
    "\n",
    "The goal of this assignment is to explore regularization techniques."
   ]
  },
  {
   "cell_type": "code",
   "execution_count": 2,
   "metadata": {
    "cellView": "both",
    "colab": {
     "autoexec": {
      "startup": false,
      "wait_interval": 0
     }
    },
    "colab_type": "code",
    "collapsed": true,
    "deletable": true,
    "editable": true,
    "id": "JLpLa8Jt7Vu4"
   },
   "outputs": [],
   "source": [
    "# These are all the modules we'll be using later. Make sure you can import them\n",
    "# before proceeding further.\n",
    "from __future__ import print_function\n",
    "import numpy as np\n",
    "import tensorflow as tf\n",
    "from six.moves import cPickle as pickle"
   ]
  },
  {
   "cell_type": "markdown",
   "metadata": {
    "colab_type": "text",
    "deletable": true,
    "editable": true,
    "id": "1HrCK6e17WzV"
   },
   "source": [
    "First reload the data we generated in `1_notmnist.ipynb`."
   ]
  },
  {
   "cell_type": "code",
   "execution_count": 3,
   "metadata": {
    "cellView": "both",
    "colab": {
     "autoexec": {
      "startup": false,
      "wait_interval": 0
     },
     "output_extras": [
      {
       "item_id": 1
      }
     ]
    },
    "colab_type": "code",
    "collapsed": false,
    "deletable": true,
    "editable": true,
    "executionInfo": {
     "elapsed": 11777,
     "status": "ok",
     "timestamp": 1449849322348,
     "user": {
      "color": "",
      "displayName": "",
      "isAnonymous": false,
      "isMe": true,
      "permissionId": "",
      "photoUrl": "",
      "sessionId": "0",
      "userId": ""
     },
     "user_tz": 480
    },
    "id": "y3-cj1bpmuxc",
    "outputId": "e03576f1-ebbe-4838-c388-f1777bcc9873"
   },
   "outputs": [
    {
     "name": "stdout",
     "output_type": "stream",
     "text": [
      "Training set (200000, 28, 28) (200000,)\n",
      "Validation set (10000, 28, 28) (10000,)\n",
      "Test set (10000, 28, 28) (10000,)\n"
     ]
    }
   ],
   "source": [
    "pickle_file = 'notMNIST.pickle'\n",
    "\n",
    "with open(pickle_file, 'rb') as f:\n",
    "  save = pickle.load(f)\n",
    "  train_dataset = save['train_dataset']\n",
    "  train_labels = save['train_labels']\n",
    "  valid_dataset = save['valid_dataset']\n",
    "  valid_labels = save['valid_labels']\n",
    "  test_dataset = save['test_dataset']\n",
    "  test_labels = save['test_labels']\n",
    "  del save  # hint to help gc free up memory\n",
    "  print('Training set', train_dataset.shape, train_labels.shape)\n",
    "  print('Validation set', valid_dataset.shape, valid_labels.shape)\n",
    "  print('Test set', test_dataset.shape, test_labels.shape)"
   ]
  },
  {
   "cell_type": "markdown",
   "metadata": {
    "colab_type": "text",
    "deletable": true,
    "editable": true,
    "id": "L7aHrm6nGDMB"
   },
   "source": [
    "Reformat into a shape that's more adapted to the models we're going to train:\n",
    "- data as a flat matrix,\n",
    "- labels as float 1-hot encodings."
   ]
  },
  {
   "cell_type": "code",
   "execution_count": 4,
   "metadata": {
    "cellView": "both",
    "colab": {
     "autoexec": {
      "startup": false,
      "wait_interval": 0
     },
     "output_extras": [
      {
       "item_id": 1
      }
     ]
    },
    "colab_type": "code",
    "collapsed": false,
    "deletable": true,
    "editable": true,
    "executionInfo": {
     "elapsed": 11728,
     "status": "ok",
     "timestamp": 1449849322356,
     "user": {
      "color": "",
      "displayName": "",
      "isAnonymous": false,
      "isMe": true,
      "permissionId": "",
      "photoUrl": "",
      "sessionId": "0",
      "userId": ""
     },
     "user_tz": 480
    },
    "id": "IRSyYiIIGIzS",
    "outputId": "3f8996ee-3574-4f44-c953-5c8a04636582"
   },
   "outputs": [
    {
     "name": "stdout",
     "output_type": "stream",
     "text": [
      "Training set (200000, 784) (200000, 10)\n",
      "Validation set (10000, 784) (10000, 10)\n",
      "Test set (10000, 784) (10000, 10)\n"
     ]
    }
   ],
   "source": [
    "image_size = 28\n",
    "num_labels = 10\n",
    "\n",
    "def reformat(dataset, labels):\n",
    "  dataset = dataset.reshape((-1, image_size * image_size)).astype(np.float32)\n",
    "  # Map 1 to [0.0, 1.0, 0.0 ...], 2 to [0.0, 0.0, 1.0 ...]\n",
    "  labels = (np.arange(num_labels) == labels[:,None]).astype(np.float32)\n",
    "  return dataset, labels\n",
    "train_dataset, train_labels = reformat(train_dataset, train_labels)\n",
    "valid_dataset, valid_labels = reformat(valid_dataset, valid_labels)\n",
    "test_dataset, test_labels = reformat(test_dataset, test_labels)\n",
    "print('Training set', train_dataset.shape, train_labels.shape)\n",
    "print('Validation set', valid_dataset.shape, valid_labels.shape)\n",
    "print('Test set', test_dataset.shape, test_labels.shape)"
   ]
  },
  {
   "cell_type": "code",
   "execution_count": 5,
   "metadata": {
    "cellView": "both",
    "colab": {
     "autoexec": {
      "startup": false,
      "wait_interval": 0
     }
    },
    "colab_type": "code",
    "collapsed": true,
    "deletable": true,
    "editable": true,
    "id": "RajPLaL_ZW6w"
   },
   "outputs": [],
   "source": [
    "def accuracy(predictions, labels):\n",
    "  return (100.0 * np.sum(np.argmax(predictions, 1) == np.argmax(labels, 1))\n",
    "          / predictions.shape[0])"
   ]
  },
  {
   "cell_type": "markdown",
   "metadata": {
    "colab_type": "text",
    "deletable": true,
    "editable": true,
    "id": "sgLbUAQ1CW-1"
   },
   "source": [
    "---\n",
    "Problem 1\n",
    "---------\n",
    "\n",
    "Introduce and tune L2 regularization for both logistic and neural network models. Remember that L2 amounts to adding a penalty on the norm of the weights to the loss. In TensorFlow, you can compute the L2 loss for a tensor `t` using `nn.l2_loss(t)`. The right amount of regularization should improve your validation / test accuracy.\n",
    "\n",
    "---"
   ]
  },
  {
   "cell_type": "code",
   "execution_count": 5,
   "metadata": {
    "collapsed": false,
    "deletable": true,
    "editable": true
   },
   "outputs": [],
   "source": [
    "# Logistic regression with regularization and SGD\n",
    "batch_size = 128\n",
    "beta = 0.01\n",
    "\n",
    "graph = tf.Graph()\n",
    "with graph.as_default():\n",
    "    tf_train_dataset = tf.placeholder(tf.float32, shape=(batch_size, image_size*image_size))\n",
    "    tf_train_labels = tf.placeholder(tf.float32, shape=(batch_size, num_labels))\n",
    "    tf_valid_dataset = tf.constant(valid_dataset)\n",
    "    tf_test_dataset = tf.constant(test_dataset)\n",
    "    \n",
    "    weights = tf.Variable(tf.truncated_normal([image_size*image_size, num_labels]))\n",
    "    biases = tf.Variable(tf.zeros([num_labels]))\n",
    "    \n",
    "    logits = tf.matmul(tf_train_dataset, weights) + biases\n",
    "    regularizer = beta * tf.reduce_mean(tf.nn.l2_loss(weights))\n",
    "    loss = tf.reduce_mean(tf.nn.softmax_cross_entropy_with_logits(labels=tf_train_labels, logits=logits) + regularizer)\n",
    "    \n",
    "    optimizer = tf.train.GradientDescentOptimizer(0.5).minimize(loss)\n",
    "    \n",
    "    train_prediction = tf.nn.softmax(logits)\n",
    "    valid_prediction = tf.nn.softmax(tf.matmul(tf_valid_dataset, weights) + biases)\n",
    "    test_prediction = tf.nn.softmax(tf.matmul(tf_test_dataset, weights) + biases)"
   ]
  },
  {
   "cell_type": "code",
   "execution_count": 6,
   "metadata": {
    "collapsed": false,
    "deletable": true,
    "editable": true
   },
   "outputs": [
    {
     "name": "stdout",
     "output_type": "stream",
     "text": [
      "Initialized\n",
      "Minibatch loss at step 0: 47.837475\n",
      "Minibatch accuracy: 13.3%\n",
      "Validation accuracy: 15.1%\n",
      "Test accuracy: 15.4%\n",
      "Minibatch loss at step 500: 1.112743\n",
      "Minibatch accuracy: 72.7%\n",
      "Validation accuracy: 79.5%\n",
      "Test accuracy: 86.8%\n",
      "Minibatch loss at step 1000: 0.797030\n",
      "Minibatch accuracy: 82.8%\n",
      "Validation accuracy: 80.6%\n",
      "Test accuracy: 87.7%\n",
      "Minibatch loss at step 1500: 0.621444\n",
      "Minibatch accuracy: 84.4%\n",
      "Validation accuracy: 81.0%\n",
      "Test accuracy: 87.7%\n",
      "Minibatch loss at step 2000: 0.683667\n",
      "Minibatch accuracy: 84.4%\n",
      "Validation accuracy: 81.6%\n",
      "Test accuracy: 89.0%\n",
      "Minibatch loss at step 2500: 0.825852\n",
      "Minibatch accuracy: 79.7%\n",
      "Validation accuracy: 81.9%\n",
      "Test accuracy: 89.1%\n",
      "Minibatch loss at step 3000: 0.743522\n",
      "Minibatch accuracy: 80.5%\n",
      "Validation accuracy: 81.7%\n",
      "Test accuracy: 88.9%\n"
     ]
    }
   ],
   "source": [
    "num_steps = 3001\n",
    "\n",
    "with tf.Session(graph=graph) as session:\n",
    "    tf.global_variables_initializer().run()\n",
    "    print(\"Initialized\")\n",
    "    \n",
    "    for step in range(num_steps):\n",
    "        offset = (step * batch_size) % (train_labels.shape[0] - batch_size)\n",
    "        batch_data = train_dataset[offset:(offset+batch_size),:]\n",
    "        batch_labels = train_labels[offset:(offset+batch_size),:]\n",
    "        \n",
    "        feed_dict = {tf_train_dataset : batch_data, tf_train_labels : batch_labels}\n",
    "        \n",
    "        _, l, predictions = session.run([optimizer, loss, train_prediction], feed_dict=feed_dict)\n",
    "        \n",
    "        if (step % 500 == 0):\n",
    "            print(\"Minibatch loss at step %d: %f\" % (step, l))\n",
    "            print(\"Minibatch accuracy: %.1f%%\" % accuracy(predictions, batch_labels))\n",
    "            print(\"Validation accuracy: %.1f%%\" % accuracy(valid_prediction.eval(), valid_labels))\n",
    "            print(\"Test accuracy: %.1f%%\" % accuracy(test_prediction.eval(), test_labels))"
   ]
  },
  {
   "cell_type": "code",
   "execution_count": 7,
   "metadata": {
    "collapsed": false
   },
   "outputs": [],
   "source": [
    "# 1-layer NN with regularization and SGD\n",
    "batch_size = 128\n",
    "beta = 0.01\n",
    "num_nodes = 1024\n",
    "\n",
    "graph = tf.Graph()\n",
    "with graph.as_default():\n",
    "    tf_train_dataset = tf.placeholder(tf.float32, shape=(batch_size, image_size*image_size))\n",
    "    tf_train_labels = tf.placeholder(tf.float32, shape=(batch_size, num_labels))\n",
    "    tf_valid_dataset = tf.constant(valid_dataset)\n",
    "    tf_test_dataset = tf.constant(test_dataset)\n",
    "    \n",
    "    weights1 = tf.Variable(tf.truncated_normal([image_size*image_size, num_nodes]))\n",
    "    biases1 = tf.Variable(tf.zeros([num_nodes]))\n",
    "    \n",
    "    weights2 = tf.Variable(tf.truncated_normal([num_nodes, num_labels]))\n",
    "    biases2 = tf.Variable(tf.zeros([num_labels]))\n",
    "    \n",
    "    logits1 = tf.nn.relu(tf.matmul(tf_train_dataset, weights1) + biases1)\n",
    "    \n",
    "    logits2 = tf.matmul(logits1, weights2) + biases2\n",
    "    \n",
    "    regularizer = tf.nn.l2_loss(weights1) + tf.nn.l2_loss(weights2)\n",
    "    \n",
    "    loss = tf.reduce_mean(tf.nn.softmax_cross_entropy_with_logits(labels=tf_train_labels, logits=logits2) + beta * regularizer)\n",
    "    \n",
    "    optimizer = tf.train.GradientDescentOptimizer(0.5).minimize(loss)\n",
    "    \n",
    "    train_prediction = tf.nn.softmax(logits2)\n",
    "    \n",
    "    valid_layer1 = tf.nn.relu(tf.matmul(tf_valid_dataset, weights1) + biases1)\n",
    "    valid_prediction = tf.nn.softmax(tf.matmul(valid_layer1, weights2) + biases2)\n",
    "    \n",
    "    test_layer1 = tf.nn.relu(tf.matmul(tf_test_dataset, weights1) + biases1)\n",
    "    test_prediction = tf.nn.softmax(tf.matmul(test_layer1, weights2) + biases2)"
   ]
  },
  {
   "cell_type": "code",
   "execution_count": 8,
   "metadata": {
    "collapsed": false
   },
   "outputs": [
    {
     "name": "stdout",
     "output_type": "stream",
     "text": [
      "Initialized\n",
      "Minibatch loss at step 0: 3517.136230\n",
      "Minibatch accuracy: 2.3%\n",
      "Validation accuracy: 27.6%\n",
      "Test accuracy: 29.8%\n",
      "Minibatch loss at step 500: 21.421618\n",
      "Minibatch accuracy: 77.3%\n",
      "Validation accuracy: 84.2%\n",
      "Test accuracy: 90.7%\n",
      "Minibatch loss at step 1000: 0.918854\n",
      "Minibatch accuracy: 83.6%\n",
      "Validation accuracy: 83.2%\n",
      "Test accuracy: 89.8%\n",
      "Minibatch loss at step 1500: 0.614263\n",
      "Minibatch accuracy: 83.6%\n",
      "Validation accuracy: 83.5%\n",
      "Test accuracy: 90.0%\n",
      "Minibatch loss at step 2000: 0.667985\n",
      "Minibatch accuracy: 85.9%\n",
      "Validation accuracy: 84.0%\n",
      "Test accuracy: 90.7%\n",
      "Minibatch loss at step 2500: 0.718770\n",
      "Minibatch accuracy: 83.6%\n",
      "Validation accuracy: 84.3%\n",
      "Test accuracy: 90.9%\n",
      "Minibatch loss at step 3000: 0.721170\n",
      "Minibatch accuracy: 82.8%\n",
      "Validation accuracy: 84.0%\n",
      "Test accuracy: 90.5%\n"
     ]
    }
   ],
   "source": [
    "num_steps = 3001\n",
    "\n",
    "with tf.Session(graph=graph) as session:\n",
    "    tf.global_variables_initializer().run()\n",
    "    print(\"Initialized\")\n",
    "    \n",
    "    for step in range(num_steps):\n",
    "        offset = (step * batch_size) % (train_labels.shape[0] - batch_size)\n",
    "        batch_data = train_dataset[offset:(offset+batch_size),:]\n",
    "        batch_labels = train_labels[offset:(offset+batch_size),:]\n",
    "        \n",
    "        feed_dict = {tf_train_dataset : batch_data, tf_train_labels : batch_labels}\n",
    "        \n",
    "        _, l, predictions = session.run([optimizer, loss, train_prediction], feed_dict=feed_dict)\n",
    "        \n",
    "        if (step % 500 == 0):\n",
    "            print(\"Minibatch loss at step %d: %f\" % (step, l))\n",
    "            print(\"Minibatch accuracy: %.1f%%\" % accuracy(predictions, batch_labels))\n",
    "            print(\"Validation accuracy: %.1f%%\" % accuracy(valid_prediction.eval(), valid_labels))\n",
    "            print(\"Test accuracy: %.1f%%\" % accuracy(test_prediction.eval(), test_labels))"
   ]
  },
  {
   "cell_type": "markdown",
   "metadata": {
    "colab_type": "text",
    "deletable": true,
    "editable": true,
    "id": "na8xX2yHZzNF"
   },
   "source": [
    "---\n",
    "Problem 2\n",
    "---------\n",
    "Let's demonstrate an extreme case of overfitting. Restrict your training data to just a few batches. What happens?\n",
    "\n",
    "---"
   ]
  },
  {
   "cell_type": "code",
   "execution_count": 9,
   "metadata": {
    "collapsed": false
   },
   "outputs": [
    {
     "name": "stdout",
     "output_type": "stream",
     "text": [
      "Initialized\n",
      "Minibatch loss at step 0: 3525.413086\n",
      "Minibatch accuracy: 14.8%\n",
      "Validation accuracy: 32.9%\n",
      "Test accuracy: 35.3%\n",
      "Minibatch loss at step 500: 21.198454\n",
      "Minibatch accuracy: 100.0%\n",
      "Validation accuracy: 76.2%\n",
      "Test accuracy: 83.5%\n",
      "Minibatch loss at step 1000: 0.477595\n",
      "Minibatch accuracy: 100.0%\n",
      "Validation accuracy: 77.6%\n",
      "Test accuracy: 85.3%\n",
      "Minibatch loss at step 1500: 0.298238\n",
      "Minibatch accuracy: 100.0%\n",
      "Validation accuracy: 77.5%\n",
      "Test accuracy: 85.4%\n",
      "Minibatch loss at step 2000: 0.290195\n",
      "Minibatch accuracy: 100.0%\n",
      "Validation accuracy: 77.3%\n",
      "Test accuracy: 85.4%\n",
      "Minibatch loss at step 2500: 0.280412\n",
      "Minibatch accuracy: 100.0%\n",
      "Validation accuracy: 77.4%\n",
      "Test accuracy: 85.5%\n",
      "Minibatch loss at step 3000: 0.271898\n",
      "Minibatch accuracy: 100.0%\n",
      "Validation accuracy: 77.4%\n",
      "Test accuracy: 85.5%\n"
     ]
    }
   ],
   "source": [
    "# overfitting\n",
    "num_steps = 3001\n",
    "\n",
    "train_dataset_red = train_dataset[:500,:]\n",
    "train_labels_red = train_labels[:500]\n",
    "\n",
    "with tf.Session(graph=graph) as session:\n",
    "    tf.global_variables_initializer().run()\n",
    "    print(\"Initialized\")\n",
    "    \n",
    "    for step in range(num_steps):\n",
    "        offset = (step * batch_size) % (train_labels_red.shape[0] - batch_size)\n",
    "        batch_data = train_dataset_red[offset:(offset+batch_size),:]\n",
    "        batch_labels = train_labels_red[offset:(offset+batch_size),:]\n",
    "        \n",
    "        feed_dict = {tf_train_dataset : batch_data, tf_train_labels : batch_labels}\n",
    "        \n",
    "        _, l, predictions = session.run([optimizer, loss, train_prediction], feed_dict=feed_dict)\n",
    "        \n",
    "        if (step % 500 == 0):\n",
    "            print(\"Minibatch loss at step %d: %f\" % (step, l))\n",
    "            print(\"Minibatch accuracy: %.1f%%\" % accuracy(predictions, batch_labels))\n",
    "            print(\"Validation accuracy: %.1f%%\" % accuracy(valid_prediction.eval(), valid_labels))\n",
    "            print(\"Test accuracy: %.1f%%\" % accuracy(test_prediction.eval(), test_labels))"
   ]
  },
  {
   "cell_type": "markdown",
   "metadata": {
    "colab_type": "text",
    "deletable": true,
    "editable": true,
    "id": "ww3SCBUdlkRc"
   },
   "source": [
    "---\n",
    "Problem 3\n",
    "---------\n",
    "Introduce Dropout on the hidden layer of the neural network. Remember: Dropout should only be introduced during training, not evaluation, otherwise your evaluation results would be stochastic as well. TensorFlow provides `nn.dropout()` for that, but you have to make sure it's only inserted during training.\n",
    "\n",
    "What happens to our extreme overfitting case?\n",
    "\n",
    "---"
   ]
  },
  {
   "cell_type": "code",
   "execution_count": 6,
   "metadata": {
    "collapsed": false
   },
   "outputs": [],
   "source": [
    "# 1-layer NN with dropout and SGD\n",
    "batch_size = 128\n",
    "beta = 0.01\n",
    "num_nodes = 1024\n",
    "\n",
    "graph = tf.Graph()\n",
    "with graph.as_default():\n",
    "    tf_train_dataset = tf.placeholder(tf.float32, shape=(batch_size, image_size*image_size))\n",
    "    tf_train_labels = tf.placeholder(tf.float32, shape=(batch_size, num_labels))\n",
    "    tf_valid_dataset = tf.constant(valid_dataset)\n",
    "    tf_test_dataset = tf.constant(test_dataset)\n",
    "    \n",
    "    weights1 = tf.Variable(tf.truncated_normal([image_size*image_size, num_nodes]))\n",
    "    biases1 = tf.Variable(tf.zeros([num_nodes]))\n",
    "    \n",
    "    weights2 = tf.Variable(tf.truncated_normal([num_nodes, num_labels]))\n",
    "    biases2 = tf.Variable(tf.zeros([num_labels]))\n",
    "    \n",
    "    logits1 = tf.nn.relu(tf.matmul(tf_train_dataset, weights1) + biases1)\n",
    "    keep_prob = tf.placeholder(\"float\")\n",
    "    logits1 = tf.nn.dropout(logits1, keep_prob)\n",
    "    \n",
    "    logits2 = tf.matmul(logits1, weights2) + biases2\n",
    "    \n",
    "    regularizer = tf.nn.l2_loss(weights1) + tf.nn.l2_loss(weights2)\n",
    "        \n",
    "    loss = tf.reduce_mean(tf.nn.softmax_cross_entropy_with_logits(labels=tf_train_labels, logits=logits2))\n",
    "    loss = tf.reduce_mean(loss + beta * regularizer)\n",
    "    \n",
    "    optimizer = tf.train.GradientDescentOptimizer(0.5).minimize(loss)\n",
    "    \n",
    "    train_prediction = tf.nn.softmax(logits2)\n",
    "    \n",
    "    valid_layer1 = tf.nn.relu(tf.matmul(tf_valid_dataset, weights1) + biases1)\n",
    "    valid_prediction = tf.nn.softmax(tf.matmul(valid_layer1, weights2) + biases2)\n",
    "    \n",
    "    test_layer1 = tf.nn.relu(tf.matmul(tf_test_dataset, weights1) + biases1)\n",
    "    test_prediction = tf.nn.softmax(tf.matmul(test_layer1, weights2) + biases2)"
   ]
  },
  {
   "cell_type": "code",
   "execution_count": 11,
   "metadata": {
    "collapsed": false
   },
   "outputs": [
    {
     "name": "stdout",
     "output_type": "stream",
     "text": [
      "Initialized\n",
      "Minibatch loss at step 0: 3488.135254\n",
      "Minibatch accuracy: 16.4%\n",
      "Validation accuracy: 34.0%\n",
      "Test accuracy: 37.6%\n",
      "Minibatch loss at step 500: 21.505989\n",
      "Minibatch accuracy: 75.8%\n",
      "Validation accuracy: 84.7%\n",
      "Test accuracy: 90.8%\n",
      "Minibatch loss at step 1000: 0.942976\n",
      "Minibatch accuracy: 83.6%\n",
      "Validation accuracy: 83.2%\n",
      "Test accuracy: 90.0%\n",
      "Minibatch loss at step 1500: 0.638839\n",
      "Minibatch accuracy: 84.4%\n",
      "Validation accuracy: 83.1%\n",
      "Test accuracy: 89.7%\n",
      "Minibatch loss at step 2000: 0.676060\n",
      "Minibatch accuracy: 88.3%\n",
      "Validation accuracy: 84.0%\n",
      "Test accuracy: 90.5%\n",
      "Minibatch loss at step 2500: 0.742685\n",
      "Minibatch accuracy: 85.2%\n",
      "Validation accuracy: 84.2%\n",
      "Test accuracy: 90.8%\n",
      "Minibatch loss at step 3000: 0.746780\n",
      "Minibatch accuracy: 82.0%\n",
      "Validation accuracy: 84.0%\n",
      "Test accuracy: 90.5%\n"
     ]
    }
   ],
   "source": [
    "# dropout\n",
    "num_steps = 3001\n",
    "\n",
    "with tf.Session(graph=graph) as session:\n",
    "    tf.global_variables_initializer().run()\n",
    "    print(\"Initialized\")\n",
    "    \n",
    "    for step in range(num_steps):\n",
    "        offset = (step * batch_size) % (train_labels.shape[0] - batch_size)\n",
    "        batch_data = train_dataset[offset:(offset+batch_size),:]\n",
    "        batch_labels = train_labels[offset:(offset+batch_size),:]\n",
    "        \n",
    "        feed_dict = {tf_train_dataset : batch_data, tf_train_labels : batch_labels, keep_prob : 0.8}\n",
    "        \n",
    "        _, l, predictions = session.run([optimizer, loss, train_prediction], feed_dict=feed_dict)\n",
    "        \n",
    "        if (step % 500 == 0):\n",
    "            print(\"Minibatch loss at step %d: %f\" % (step, l))\n",
    "            print(\"Minibatch accuracy: %.1f%%\" % accuracy(predictions, batch_labels))\n",
    "            print(\"Validation accuracy: %.1f%%\" % accuracy(valid_prediction.eval(), valid_labels))\n",
    "            print(\"Test accuracy: %.1f%%\" % accuracy(test_prediction.eval(), test_labels))"
   ]
  },
  {
   "cell_type": "code",
   "execution_count": 10,
   "metadata": {
    "collapsed": false
   },
   "outputs": [
    {
     "name": "stdout",
     "output_type": "stream",
     "text": [
      "Initialized\n",
      "Minibatch loss at step 0: 3592.949951\n",
      "Minibatch accuracy: 10.2%\n",
      "Validation accuracy: 23.4%\n",
      "Test accuracy: 25.4%\n",
      "Minibatch loss at step 500: 21.161150\n",
      "Minibatch accuracy: 100.0%\n",
      "Validation accuracy: 77.5%\n",
      "Test accuracy: 84.9%\n",
      "Minibatch loss at step 1000: 0.509036\n",
      "Minibatch accuracy: 100.0%\n",
      "Validation accuracy: 77.6%\n",
      "Test accuracy: 85.2%\n",
      "Minibatch loss at step 1500: 0.330097\n",
      "Minibatch accuracy: 100.0%\n",
      "Validation accuracy: 77.6%\n",
      "Test accuracy: 85.4%\n",
      "Minibatch loss at step 2000: 0.326659\n",
      "Minibatch accuracy: 100.0%\n",
      "Validation accuracy: 77.8%\n",
      "Test accuracy: 85.4%\n",
      "Minibatch loss at step 2500: 0.297102\n",
      "Minibatch accuracy: 100.0%\n",
      "Validation accuracy: 77.8%\n",
      "Test accuracy: 85.7%\n",
      "Minibatch loss at step 3000: 0.292471\n",
      "Minibatch accuracy: 100.0%\n",
      "Validation accuracy: 77.8%\n",
      "Test accuracy: 85.5%\n"
     ]
    }
   ],
   "source": [
    "# overfitting with dropout\n",
    "num_steps = 3001\n",
    "\n",
    "train_dataset_red = train_dataset[:500,:]\n",
    "train_labels_red = train_labels[:500]\n",
    "\n",
    "with tf.Session(graph=graph) as session:\n",
    "    tf.global_variables_initializer().run()\n",
    "    print(\"Initialized\")\n",
    "    \n",
    "    for step in range(num_steps):\n",
    "        offset = (step * batch_size) % (train_labels_red.shape[0] - batch_size)\n",
    "        batch_data = train_dataset_red[offset:(offset+batch_size),:]\n",
    "        batch_labels = train_labels_red[offset:(offset+batch_size),:]\n",
    "        \n",
    "        feed_dict = {tf_train_dataset : batch_data, tf_train_labels : batch_labels, keep_prob : 0.8}\n",
    "        \n",
    "        _, l, predictions = session.run([optimizer, loss, train_prediction], feed_dict=feed_dict)\n",
    "        \n",
    "        if (step % 500 == 0):\n",
    "            print(\"Minibatch loss at step %d: %f\" % (step, l))\n",
    "            print(\"Minibatch accuracy: %.1f%%\" % accuracy(predictions, batch_labels))\n",
    "            print(\"Validation accuracy: %.1f%%\" % accuracy(valid_prediction.eval(), valid_labels))\n",
    "            print(\"Test accuracy: %.1f%%\" % accuracy(test_prediction.eval(), test_labels))"
   ]
  },
  {
   "cell_type": "markdown",
   "metadata": {
    "colab_type": "text",
    "deletable": true,
    "editable": true,
    "id": "-b1hTz3VWZjw"
   },
   "source": [
    "---\n",
    "Problem 4\n",
    "---------\n",
    "\n",
    "Try to get the best performance you can using a multi-layer model! The best reported test accuracy using a deep network is [97.1%](http://yaroslavvb.blogspot.com/2011/09/notmnist-dataset.html?showComment=1391023266211#c8758720086795711595).\n",
    "\n",
    "One avenue you can explore is to add multiple layers.\n",
    "\n",
    "Another one is to use learning rate decay:\n",
    "\n",
    "    global_step = tf.Variable(0)  # count the number of steps taken.\n",
    "    learning_rate = tf.train.exponential_decay(0.5, global_step, ...)\n",
    "    optimizer = tf.train.GradientDescentOptimizer(learning_rate).minimize(loss, global_step=global_step)\n",
    " \n",
    " ---\n"
   ]
  },
  {
   "cell_type": "code",
   "execution_count": 8,
   "metadata": {
    "collapsed": false
   },
   "outputs": [],
   "source": [
    "# 5-layer DNN with regularization, dropout and SGD\n",
    "import math\n",
    "batch_size = 256\n",
    "beta = 0.01\n",
    "num_nodes1 = 1024\n",
    "num_nodes2 = 512\n",
    "num_nodes3 = 256\n",
    "num_nodes4 = 128\n",
    "num_nodes5 = 64\n",
    "\n",
    "graph = tf.Graph()\n",
    "with graph.as_default():\n",
    "    tf_train_dataset = tf.placeholder(tf.float32, shape=(batch_size, image_size*image_size))\n",
    "    tf_train_labels = tf.placeholder(tf.float32, shape=(batch_size, num_labels))\n",
    "    tf_valid_dataset = tf.constant(valid_dataset)\n",
    "    tf_test_dataset = tf.constant(test_dataset)\n",
    "    \n",
    "    weights1 = tf.Variable(tf.truncated_normal([image_size*image_size, num_nodes1], stddev=math.sqrt(2.0/num_nodes1)))\n",
    "    biases1 = tf.Variable(tf.zeros([num_nodes1]))\n",
    "    weights2 = tf.Variable(tf.truncated_normal([num_nodes1, num_nodes2], stddev=math.sqrt(2.0/num_nodes2)))\n",
    "    biases2 = tf.Variable(tf.zeros([num_nodes2]))\n",
    "    weights3 = tf.Variable(tf.truncated_normal([num_nodes2, num_nodes3], stddev=math.sqrt(2.0/num_nodes3)))\n",
    "    biases3 = tf.Variable(tf.zeros([num_nodes3]))\n",
    "    weights4 = tf.Variable(tf.truncated_normal([num_nodes3, num_nodes4], stddev=math.sqrt(2.0/num_nodes4)))\n",
    "    biases4 = tf.Variable(tf.zeros([num_nodes4]))\n",
    "    weights5 = tf.Variable(tf.truncated_normal([num_nodes4, num_nodes5], stddev=math.sqrt(2.0/num_nodes5)))\n",
    "    biases5 = tf.Variable(tf.zeros([num_nodes5]))\n",
    "    weights6 = tf.Variable(tf.truncated_normal([num_nodes5, num_labels], stddev=math.sqrt(2.0/num_labels)))\n",
    "    biases6 = tf.Variable(tf.zeros([num_labels]))\n",
    "    \n",
    "    keep_prob = tf.placeholder(\"float\")\n",
    "        \n",
    "    relu_layer1 = tf.nn.relu(tf.matmul(tf_train_dataset, weights1) + biases1)\n",
    "    logits1 = tf.nn.dropout(relu_layer1, keep_prob)\n",
    "    \n",
    "    relu_layer2 = tf.nn.relu(tf.matmul(logits1, weights2) + biases2)\n",
    "    logits2 = tf.nn.dropout(relu_layer2, keep_prob)\n",
    "    \n",
    "    relu_layer3 = tf.nn.relu(tf.matmul(logits2, weights3) + biases3)\n",
    "    logits3 = tf.nn.dropout(relu_layer3, keep_prob)\n",
    "    \n",
    "    relu_layer4 = tf.nn.relu(tf.matmul(logits3, weights4) + biases4)\n",
    "    logits4 = tf.nn.dropout(relu_layer4, keep_prob)\n",
    "    \n",
    "    relu_layer5 = tf.nn.relu(tf.matmul(logits4, weights5) + biases5)\n",
    "    logits5 = tf.nn.dropout(relu_layer5, keep_prob)\n",
    "    \n",
    "    logits = tf.matmul(logits5, weights6) + biases6\n",
    "    \n",
    "    regularizer = tf.nn.l2_loss(weights1) + tf.nn.l2_loss(weights2) + \\\n",
    "                  tf.nn.l2_loss(weights3) + tf.nn.l2_loss(weights4) + \\\n",
    "                  tf.nn.l2_loss(weights5) + tf.nn.l2_loss(weights6)\n",
    "        \n",
    "    loss = tf.reduce_mean(tf.nn.softmax_cross_entropy_with_logits(labels=tf_train_labels, logits=logits))\n",
    "    loss = tf.reduce_mean(loss + beta * regularizer)\n",
    "    \n",
    "    global_step = tf.Variable(0)  # count the number of steps taken.\n",
    "    learning_rate = tf.train.exponential_decay(0.05, global_step, 10000, 0.96, staircase=True)\n",
    "    optimizer = tf.train.GradientDescentOptimizer(learning_rate).minimize(loss, global_step=global_step)\n",
    "    \n",
    "    train_prediction = tf.nn.softmax(logits)\n",
    "    \n",
    "    valid_layer1 = tf.nn.relu(tf.matmul(tf_valid_dataset, weights1) + biases1)\n",
    "    valid_layer2 = tf.nn.relu(tf.matmul(valid_layer1, weights2) + biases2)\n",
    "    valid_layer3 = tf.nn.relu(tf.matmul(valid_layer2, weights3) + biases3)\n",
    "    valid_layer4 = tf.nn.relu(tf.matmul(valid_layer3, weights4) + biases4)\n",
    "    valid_layer5 = tf.nn.relu(tf.matmul(valid_layer4, weights5) + biases5)\n",
    "    valid_prediction = tf.nn.softmax(tf.matmul(valid_layer5, weights6) + biases6)\n",
    "    \n",
    "    test_layer1 = tf.nn.relu(tf.matmul(tf_test_dataset, weights1) + biases1)\n",
    "    test_layer2 = tf.nn.relu(tf.matmul(test_layer1, weights2) + biases2)\n",
    "    test_layer3 = tf.nn.relu(tf.matmul(test_layer2, weights3) + biases3)\n",
    "    test_layer4 = tf.nn.relu(tf.matmul(test_layer3, weights4) + biases4)\n",
    "    test_layer5 = tf.nn.relu(tf.matmul(test_layer4, weights5) + biases5)\n",
    "    test_prediction = tf.nn.softmax(tf.matmul(test_layer5, weights6) + biases6)"
   ]
  },
  {
   "cell_type": "code",
   "execution_count": 9,
   "metadata": {
    "collapsed": false
   },
   "outputs": [
    {
     "name": "stdout",
     "output_type": "stream",
     "text": [
      "Initialized\n",
      "Minibatch loss at step 0: 27.667168\n",
      "Minibatch accuracy: 12.5%\n",
      "Validation accuracy: 11.8%\n",
      "Test accuracy: 11.3%\n",
      "Minibatch loss at step 500: 13.754711\n",
      "Minibatch accuracy: 77.7%\n",
      "Validation accuracy: 84.1%\n",
      "Test accuracy: 90.9%\n",
      "Minibatch loss at step 1000: 8.486978\n",
      "Minibatch accuracy: 85.2%\n",
      "Validation accuracy: 85.2%\n",
      "Test accuracy: 91.5%\n",
      "Minibatch loss at step 1500: 5.552544\n",
      "Minibatch accuracy: 83.2%\n",
      "Validation accuracy: 85.6%\n",
      "Test accuracy: 91.7%\n",
      "Minibatch loss at step 2000: 3.639117\n",
      "Minibatch accuracy: 87.1%\n",
      "Validation accuracy: 85.7%\n",
      "Test accuracy: 91.8%\n",
      "Minibatch loss at step 2500: 2.474728\n",
      "Minibatch accuracy: 86.3%\n",
      "Validation accuracy: 85.8%\n",
      "Test accuracy: 92.1%\n",
      "Minibatch loss at step 3000: 1.925965\n",
      "Minibatch accuracy: 84.0%\n",
      "Validation accuracy: 86.0%\n",
      "Test accuracy: 92.1%\n",
      "Minibatch loss at step 3500: 1.515693\n",
      "Minibatch accuracy: 84.4%\n",
      "Validation accuracy: 85.9%\n",
      "Test accuracy: 92.2%\n",
      "Minibatch loss at step 4000: 1.253459\n",
      "Minibatch accuracy: 84.0%\n",
      "Validation accuracy: 86.1%\n",
      "Test accuracy: 92.4%\n",
      "Minibatch loss at step 4500: 1.165885\n",
      "Minibatch accuracy: 83.6%\n",
      "Validation accuracy: 86.2%\n",
      "Test accuracy: 92.3%\n",
      "Minibatch loss at step 5000: 1.066376\n",
      "Minibatch accuracy: 84.0%\n",
      "Validation accuracy: 86.5%\n",
      "Test accuracy: 92.5%\n",
      "Minibatch loss at step 5500: 0.958153\n",
      "Minibatch accuracy: 85.2%\n",
      "Validation accuracy: 86.4%\n",
      "Test accuracy: 92.8%\n",
      "Minibatch loss at step 6000: 0.992390\n",
      "Minibatch accuracy: 84.4%\n",
      "Validation accuracy: 86.3%\n",
      "Test accuracy: 92.5%\n",
      "Minibatch loss at step 6500: 0.911646\n",
      "Minibatch accuracy: 86.3%\n",
      "Validation accuracy: 86.8%\n",
      "Test accuracy: 92.8%\n",
      "Minibatch loss at step 7000: 0.798482\n",
      "Minibatch accuracy: 87.9%\n",
      "Validation accuracy: 86.8%\n",
      "Test accuracy: 92.8%\n",
      "Minibatch loss at step 7500: 0.936480\n",
      "Minibatch accuracy: 84.4%\n",
      "Validation accuracy: 86.9%\n",
      "Test accuracy: 92.7%\n",
      "Minibatch loss at step 8000: 0.821642\n",
      "Minibatch accuracy: 86.3%\n",
      "Validation accuracy: 86.9%\n",
      "Test accuracy: 92.8%\n",
      "Minibatch loss at step 8500: 0.942900\n",
      "Minibatch accuracy: 82.8%\n",
      "Validation accuracy: 86.9%\n",
      "Test accuracy: 93.0%\n",
      "Minibatch loss at step 9000: 0.844327\n",
      "Minibatch accuracy: 86.7%\n",
      "Validation accuracy: 87.1%\n",
      "Test accuracy: 92.9%\n",
      "Minibatch loss at step 9500: 0.754894\n",
      "Minibatch accuracy: 90.2%\n",
      "Validation accuracy: 87.2%\n",
      "Test accuracy: 93.1%\n",
      "Minibatch loss at step 10000: 0.928955\n",
      "Minibatch accuracy: 82.0%\n",
      "Validation accuracy: 87.2%\n",
      "Test accuracy: 93.1%\n",
      "Minibatch loss at step 10500: 0.787975\n",
      "Minibatch accuracy: 87.5%\n",
      "Validation accuracy: 87.4%\n",
      "Test accuracy: 93.2%\n",
      "Minibatch loss at step 11000: 0.818973\n",
      "Minibatch accuracy: 85.9%\n",
      "Validation accuracy: 87.2%\n",
      "Test accuracy: 93.1%\n",
      "Minibatch loss at step 11500: 0.886348\n",
      "Minibatch accuracy: 83.6%\n",
      "Validation accuracy: 87.4%\n",
      "Test accuracy: 93.1%\n",
      "Minibatch loss at step 12000: 0.831831\n",
      "Minibatch accuracy: 85.9%\n",
      "Validation accuracy: 87.1%\n",
      "Test accuracy: 93.0%\n",
      "Minibatch loss at step 12500: 0.880502\n",
      "Minibatch accuracy: 86.3%\n",
      "Validation accuracy: 87.5%\n",
      "Test accuracy: 93.2%\n",
      "Minibatch loss at step 13000: 0.908971\n",
      "Minibatch accuracy: 84.4%\n",
      "Validation accuracy: 87.5%\n",
      "Test accuracy: 93.1%\n",
      "Minibatch loss at step 13500: 0.898278\n",
      "Minibatch accuracy: 85.5%\n",
      "Validation accuracy: 87.5%\n",
      "Test accuracy: 93.2%\n",
      "Minibatch loss at step 14000: 0.854634\n",
      "Minibatch accuracy: 87.9%\n",
      "Validation accuracy: 87.4%\n",
      "Test accuracy: 93.4%\n",
      "Minibatch loss at step 14500: 0.826063\n",
      "Minibatch accuracy: 86.3%\n",
      "Validation accuracy: 87.5%\n",
      "Test accuracy: 93.1%\n"
     ]
    }
   ],
   "source": [
    "# DNN\n",
    "num_steps = 15000\n",
    "\n",
    "with tf.Session(graph=graph) as session:\n",
    "    tf.global_variables_initializer().run()\n",
    "    print(\"Initialized\")\n",
    "    \n",
    "    for step in range(num_steps):\n",
    "        offset = (step * batch_size) % (train_labels.shape[0] - batch_size)\n",
    "        batch_data = train_dataset[offset:(offset+batch_size),:]\n",
    "        batch_labels = train_labels[offset:(offset+batch_size),:]\n",
    "        \n",
    "        feed_dict = {tf_train_dataset : batch_data, tf_train_labels : batch_labels, keep_prob : 0.8}\n",
    "        \n",
    "        _, l, predictions = session.run([optimizer, loss, train_prediction], feed_dict=feed_dict)\n",
    "        \n",
    "        if (step % 500 == 0):\n",
    "            print(\"Minibatch loss at step %d: %f\" % (step, l))\n",
    "            print(\"Minibatch accuracy: %.1f%%\" % accuracy(predictions, batch_labels))\n",
    "            print(\"Validation accuracy: %.1f%%\" % accuracy(valid_prediction.eval(), valid_labels))\n",
    "            print(\"Test accuracy: %.1f%%\" % accuracy(test_prediction.eval(), test_labels))"
   ]
  },
  {
   "cell_type": "code",
   "execution_count": null,
   "metadata": {
    "collapsed": true
   },
   "outputs": [],
   "source": []
  }
 ],
 "metadata": {
  "colab": {
   "default_view": {},
   "name": "3_regularization.ipynb",
   "provenance": [],
   "version": "0.3.2",
   "views": {}
  },
  "kernelspec": {
   "display_name": "Python 2",
   "language": "python",
   "name": "python2"
  }
 },
 "nbformat": 4,
 "nbformat_minor": 0
}
